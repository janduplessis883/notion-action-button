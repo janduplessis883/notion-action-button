{
 "cells": [
  {
   "cell_type": "code",
   "execution_count": 1,
   "id": "b74c6bf0-fb41-46a3-b464-a252d342082c",
   "metadata": {},
   "outputs": [],
   "source": [
    "import pandas as pd\n",
    "import gspread\n",
    "from google.oauth2 import service_account"
   ]
  },
  {
   "cell_type": "code",
   "execution_count": 2,
   "id": "0c1b54af-32e9-4ea2-a196-13c0f38a2955",
   "metadata": {},
   "outputs": [],
   "source": [
    "from google_sheets.sheethelper import SheetHelper"
   ]
  },
  {
   "cell_type": "code",
   "execution_count": 3,
   "id": "2685b6b3-1407-4ba9-a6e9-f1e5ef45011c",
   "metadata": {},
   "outputs": [],
   "source": [
    "sh = SheetHelper(sheet_url=\"https://docs.google.com/spreadsheets/d/1i_Z8Aqak_evSMT9mdoOjmTfeKEXQ_n19jqWV3DNZtWM/edit?gid=0#gid=0\", sheet_id=0)"
   ]
  },
  {
   "cell_type": "code",
   "execution_count": 4,
   "id": "5fb81c66-633a-4493-ad45-a402b1041803",
   "metadata": {},
   "outputs": [],
   "source": [
    "register = sh.gsheet_to_df()"
   ]
  },
  {
   "cell_type": "code",
   "execution_count": 5,
   "id": "77a7a0d2-1f66-4bec-9a81-13d4f148b42e",
   "metadata": {},
   "outputs": [],
   "source": [
    "from notion_api.notionhelper import NotionHelper"
   ]
  },
  {
   "cell_type": "code",
   "execution_count": 14,
   "id": "001465cd-1c41-4cc9-ab50-81275cd09681",
   "metadata": {},
   "outputs": [],
   "source": [
    "nh = NotionHelper()"
   ]
  },
  {
   "cell_type": "code",
   "execution_count": 19,
   "id": "fae21838-77a9-40bc-a225-42e9c24f4bc3",
   "metadata": {},
   "outputs": [],
   "source": [
    "# nh.get_database(\"130fdfd68a9780f1a31de290fb05f9ee\")"
   ]
  },
  {
   "cell_type": "code",
   "execution_count": 20,
   "id": "95d44d95-cc98-4845-8b4b-02e126a954b9",
   "metadata": {},
   "outputs": [],
   "source": [
    "intervetion_group = nh.get_all_pages_as_dataframe(\"130fdfd68a9780f1a31de290fb05f9ee\")"
   ]
  },
  {
   "cell_type": "code",
   "execution_count": 21,
   "id": "43e24037-64a6-4588-a081-6939d22c5682",
   "metadata": {},
   "outputs": [
    {
     "name": "stdout",
     "output_type": "stream",
     "text": [
      "Register df\n"
     ]
    },
    {
     "data": {
      "text/html": [
       "<div>\n",
       "<style scoped>\n",
       "    .dataframe tbody tr th:only-of-type {\n",
       "        vertical-align: middle;\n",
       "    }\n",
       "\n",
       "    .dataframe tbody tr th {\n",
       "        vertical-align: top;\n",
       "    }\n",
       "\n",
       "    .dataframe thead th {\n",
       "        text-align: right;\n",
       "    }\n",
       "</style>\n",
       "<table border=\"1\" class=\"dataframe\">\n",
       "  <thead>\n",
       "    <tr style=\"text-align: right;\">\n",
       "      <th></th>\n",
       "      <th>NHS number</th>\n",
       "      <th>Prefered Telecoms</th>\n",
       "      <th>Date of birth</th>\n",
       "      <th>Firstname</th>\n",
       "      <th>Email</th>\n",
       "    </tr>\n",
       "  </thead>\n",
       "  <tbody>\n",
       "    <tr>\n",
       "      <th>0</th>\n",
       "      <td>3456789</td>\n",
       "      <td>7486321744</td>\n",
       "      <td>02/05/69</td>\n",
       "      <td>Jan</td>\n",
       "      <td>jan@jan.com</td>\n",
       "    </tr>\n",
       "    <tr>\n",
       "      <th>1</th>\n",
       "      <td>87654324</td>\n",
       "      <td>9786543</td>\n",
       "      <td>01/01/02</td>\n",
       "      <td>Frank</td>\n",
       "      <td>frank@jan.com</td>\n",
       "    </tr>\n",
       "    <tr>\n",
       "      <th>2</th>\n",
       "      <td>876543</td>\n",
       "      <td>9876543</td>\n",
       "      <td>02/02/1990</td>\n",
       "      <td>Maggie</td>\n",
       "      <td>maggie@jan.com</td>\n",
       "    </tr>\n",
       "  </tbody>\n",
       "</table>\n",
       "</div>"
      ],
      "text/plain": [
       "   NHS number  Prefered Telecoms Date of birth Firstname           Email\n",
       "0     3456789         7486321744      02/05/69       Jan     jan@jan.com\n",
       "1    87654324            9786543      01/01/02     Frank   frank@jan.com\n",
       "2      876543            9876543    02/02/1990    Maggie  maggie@jan.com"
      ]
     },
     "execution_count": 21,
     "metadata": {},
     "output_type": "execute_result"
    }
   ],
   "source": [
    "print('Register df')\n",
    "register"
   ]
  },
  {
   "cell_type": "code",
   "execution_count": 22,
   "id": "0ea49fa3-7684-414e-a1cc-64ded3f30fb0",
   "metadata": {},
   "outputs": [
    {
     "name": "stdout",
     "output_type": "stream",
     "text": [
      "Intervetion Group\n"
     ]
    },
    {
     "data": {
      "text/html": [
       "<div>\n",
       "<style scoped>\n",
       "    .dataframe tbody tr th:only-of-type {\n",
       "        vertical-align: middle;\n",
       "    }\n",
       "\n",
       "    .dataframe tbody tr th {\n",
       "        vertical-align: top;\n",
       "    }\n",
       "\n",
       "    .dataframe thead th {\n",
       "        text-align: right;\n",
       "    }\n",
       "</style>\n",
       "<table border=\"1\" class=\"dataframe\">\n",
       "  <thead>\n",
       "    <tr style=\"text-align: right;\">\n",
       "      <th></th>\n",
       "      <th>Status</th>\n",
       "      <th>NHS number</th>\n",
       "      <th>Date</th>\n",
       "      <th>URL</th>\n",
       "      <th>Checkbox</th>\n",
       "      <th>Description</th>\n",
       "      <th>Email</th>\n",
       "      <th>Checkbox 1</th>\n",
       "      <th>Name</th>\n",
       "    </tr>\n",
       "  </thead>\n",
       "  <tbody>\n",
       "    <tr>\n",
       "      <th>0</th>\n",
       "      <td>Not started</td>\n",
       "      <td>98765432</td>\n",
       "      <td></td>\n",
       "      <td>None</td>\n",
       "      <td>True</td>\n",
       "      <td></td>\n",
       "      <td>None</td>\n",
       "      <td>False</td>\n",
       "      <td>Not in register</td>\n",
       "    </tr>\n",
       "    <tr>\n",
       "      <th>1</th>\n",
       "      <td>Not started</td>\n",
       "      <td>9876543</td>\n",
       "      <td></td>\n",
       "      <td>None</td>\n",
       "      <td>True</td>\n",
       "      <td></td>\n",
       "      <td>None</td>\n",
       "      <td>False</td>\n",
       "      <td>Not in register</td>\n",
       "    </tr>\n",
       "    <tr>\n",
       "      <th>2</th>\n",
       "      <td>Done</td>\n",
       "      <td>98765434567</td>\n",
       "      <td>2024-10-16</td>\n",
       "      <td>None</td>\n",
       "      <td>True</td>\n",
       "      <td>free text 3</td>\n",
       "      <td>None</td>\n",
       "      <td>True</td>\n",
       "      <td>Maggie</td>\n",
       "    </tr>\n",
       "    <tr>\n",
       "      <th>3</th>\n",
       "      <td>Not started</td>\n",
       "      <td>3456789</td>\n",
       "      <td>2024-10-23</td>\n",
       "      <td>https://www.make.com</td>\n",
       "      <td>True</td>\n",
       "      <td>free text</td>\n",
       "      <td>jan@jan.com</td>\n",
       "      <td>True</td>\n",
       "      <td>Jan</td>\n",
       "    </tr>\n",
       "    <tr>\n",
       "      <th>4</th>\n",
       "      <td>In progress</td>\n",
       "      <td>98765432345</td>\n",
       "      <td></td>\n",
       "      <td>None</td>\n",
       "      <td>False</td>\n",
       "      <td>Free text 2</td>\n",
       "      <td>None</td>\n",
       "      <td>True</td>\n",
       "      <td>James</td>\n",
       "    </tr>\n",
       "  </tbody>\n",
       "</table>\n",
       "</div>"
      ],
      "text/plain": [
       "        Status   NHS number        Date                   URL  Checkbox  \\\n",
       "0  Not started     98765432                              None      True   \n",
       "1  Not started      9876543                              None      True   \n",
       "2         Done  98765434567  2024-10-16                  None      True   \n",
       "3  Not started      3456789  2024-10-23  https://www.make.com      True   \n",
       "4  In progress  98765432345                              None     False   \n",
       "\n",
       "   Description        Email  Checkbox 1             Name  \n",
       "0                      None       False  Not in register  \n",
       "1                      None       False  Not in register  \n",
       "2  free text 3         None        True           Maggie  \n",
       "3    free text  jan@jan.com        True              Jan  \n",
       "4  Free text 2         None        True            James  "
      ]
     },
     "execution_count": 22,
     "metadata": {},
     "output_type": "execute_result"
    }
   ],
   "source": [
    "print('Intervetion Group')\n",
    "intervetion_group"
   ]
  },
  {
   "cell_type": "code",
   "execution_count": 23,
   "id": "65bfdf75-187d-4eef-93f2-4b620c6f9b9d",
   "metadata": {},
   "outputs": [],
   "source": [
    "due_intervention = register[~register['NHS number'].isin(intervetion_group['NHS number'])]"
   ]
  },
  {
   "cell_type": "code",
   "execution_count": 24,
   "id": "367f359f-c471-4248-b625-64b727ed6e3c",
   "metadata": {},
   "outputs": [
    {
     "data": {
      "text/html": [
       "<div>\n",
       "<style scoped>\n",
       "    .dataframe tbody tr th:only-of-type {\n",
       "        vertical-align: middle;\n",
       "    }\n",
       "\n",
       "    .dataframe tbody tr th {\n",
       "        vertical-align: top;\n",
       "    }\n",
       "\n",
       "    .dataframe thead th {\n",
       "        text-align: right;\n",
       "    }\n",
       "</style>\n",
       "<table border=\"1\" class=\"dataframe\">\n",
       "  <thead>\n",
       "    <tr style=\"text-align: right;\">\n",
       "      <th></th>\n",
       "      <th>NHS number</th>\n",
       "      <th>Prefered Telecoms</th>\n",
       "      <th>Date of birth</th>\n",
       "      <th>Firstname</th>\n",
       "      <th>Email</th>\n",
       "    </tr>\n",
       "  </thead>\n",
       "  <tbody>\n",
       "    <tr>\n",
       "      <th>1</th>\n",
       "      <td>87654324</td>\n",
       "      <td>9786543</td>\n",
       "      <td>01/01/02</td>\n",
       "      <td>Frank</td>\n",
       "      <td>frank@jan.com</td>\n",
       "    </tr>\n",
       "    <tr>\n",
       "      <th>2</th>\n",
       "      <td>876543</td>\n",
       "      <td>9876543</td>\n",
       "      <td>02/02/1990</td>\n",
       "      <td>Maggie</td>\n",
       "      <td>maggie@jan.com</td>\n",
       "    </tr>\n",
       "  </tbody>\n",
       "</table>\n",
       "</div>"
      ],
      "text/plain": [
       "   NHS number  Prefered Telecoms Date of birth Firstname           Email\n",
       "1    87654324            9786543      01/01/02     Frank   frank@jan.com\n",
       "2      876543            9876543    02/02/1990    Maggie  maggie@jan.com"
      ]
     },
     "execution_count": 24,
     "metadata": {},
     "output_type": "execute_result"
    }
   ],
   "source": [
    "due_intervention"
   ]
  },
  {
   "cell_type": "code",
   "execution_count": null,
   "id": "e5990b5f-8575-4d7a-b944-425ed6ac50b3",
   "metadata": {},
   "outputs": [],
   "source": []
  },
  {
   "cell_type": "code",
   "execution_count": null,
   "id": "0cdf15e0-db67-4051-9038-33e43fda6311",
   "metadata": {},
   "outputs": [],
   "source": []
  },
  {
   "cell_type": "code",
   "execution_count": null,
   "id": "193102a0-8362-480c-81cc-526dd405c38e",
   "metadata": {},
   "outputs": [],
   "source": []
  },
  {
   "cell_type": "code",
   "execution_count": null,
   "id": "d1475c45-6015-4bdc-a745-bf7a35111df7",
   "metadata": {},
   "outputs": [],
   "source": []
  },
  {
   "cell_type": "code",
   "execution_count": null,
   "id": "d12cde49-adc2-4dad-bfc1-7dcdf84ca085",
   "metadata": {},
   "outputs": [],
   "source": []
  },
  {
   "cell_type": "code",
   "execution_count": null,
   "id": "ec1b5285-97f4-4abb-9d3c-bf7e29bc1cc0",
   "metadata": {},
   "outputs": [],
   "source": []
  },
  {
   "cell_type": "code",
   "execution_count": null,
   "id": "7f3541c9-0f1c-4011-8624-d918299ddc7e",
   "metadata": {},
   "outputs": [],
   "source": []
  }
 ],
 "metadata": {
  "kernelspec": {
   "display_name": "Python 3 (ipykernel)",
   "language": "python",
   "name": "python3"
  },
  "language_info": {
   "codemirror_mode": {
    "name": "ipython",
    "version": 3
   },
   "file_extension": ".py",
   "mimetype": "text/x-python",
   "name": "python",
   "nbconvert_exporter": "python",
   "pygments_lexer": "ipython3",
   "version": "3.10.6"
  }
 },
 "nbformat": 4,
 "nbformat_minor": 5
}
